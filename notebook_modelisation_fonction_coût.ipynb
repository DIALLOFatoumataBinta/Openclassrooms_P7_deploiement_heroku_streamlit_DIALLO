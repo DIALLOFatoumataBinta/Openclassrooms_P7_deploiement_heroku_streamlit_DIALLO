{
 "cells": [
  {
   "cell_type": "markdown",
   "id": "8b26f072",
   "metadata": {},
   "source": [
    "<div style=\"display: flex; background-color: #3F579F;\">\n",
    "    <h1 style=\"margin: auto; font-weight: bold; padding: 30px 30px 0px 30px; color:#fff;\" align=\"center\">Implémentez un modèle de scoring - P7</h1>\n",
    "</div>\n",
    "<div style=\"display: flex; background-color: #3F579F; margin: auto; padding: 5px 30px 0px 30px;\" >\n",
    "    <h3 style=\"width: 100%; text-align: center; float: left; font-size: 24px; color:#fff;\" align=\"center\">| Études des modèles |</h3>\n",
    "</div>\n",
    "<div style=\"display: flex; background-color: #3F579F; margin: auto; padding: 10px 30px 30px 30px;\">\n",
    "    <h4 style=\"width: 100%; text-align: center; float: left; font-size: 24px; color:#fff;\" align=\"center\">Data Scientist - OpenClassrooms</h4>\n",
    "</div>"
   ]
  },
  {
   "cell_type": "code",
   "execution_count": 9,
   "id": "72044a90",
   "metadata": {},
   "outputs": [],
   "source": [
    "## General\n",
    "import timeit\n",
    "import re\n",
    "import pandas as pd\n",
    "import numpy as np\n",
    "from collections import Counter\n",
    "import matplotlib.style as style\n",
    "import matplotlib.pyplot as plt\n",
    "import seaborn as sns\n",
    "\n",
    "## Scikit Learn library\n",
    "from sklearn.experimental import enable_halving_search_cv\n",
    "from sklearn.model_selection import (train_test_split, StratifiedKFold, KFold, \n",
    "                                     HalvingGridSearchCV, cross_validate, GridSearchCV)\n",
    "from sklearn.ensemble import RandomForestClassifier, GradientBoostingClassifier\n",
    "import xgboost as xgb\n",
    "## LightGBM\n",
    "from lightgbm import LGBMClassifier\n",
    "\n",
    "from sklearn.linear_model import LogisticRegression\n",
    "\n",
    "from sklearn.metrics import (precision_score, roc_auc_score, recall_score, \n",
    "                             f1_score, fbeta_score, confusion_matrix, roc_curve, ConfusionMatrixDisplay\n",
    "                             )\n",
    "from sklearn.feature_selection import SelectKBest, f_classif\n",
    "\n",
    "## imbalanced-learn\n",
    "from imblearn.pipeline import Pipeline as imbpipeline\n",
    "from imblearn.over_sampling import SMOTE\n",
    "from imblearn.under_sampling import RandomUnderSampler\n",
    "from imblearn.ensemble import BalancedRandomForestClassifier, BalancedBaggingClassifier,RUSBoostClassifier\n",
    "\n",
    "\n",
    "## SHapley Additive exPlanations.\n",
    "#import shap\n",
    "import pickle\n",
    "## Lightweight pipelining in Python\n",
    "import joblib\n",
    "\n",
    "\n",
    "%matplotlib inline\n",
    "\n",
    "#!pip3 install imblearn\n"
   ]
  },
  {
   "cell_type": "code",
   "execution_count": 2,
   "id": "ee90c0f2",
   "metadata": {},
   "outputs": [],
   "source": [
    "#from sklearn.pipeline import make_pipeline, Pipeline"
   ]
  },
  {
   "cell_type": "markdown",
   "id": "14615366",
   "metadata": {},
   "source": [
    "# I/ Analyse succinte du fichier "
   ]
  },
  {
   "cell_type": "code",
   "execution_count": 18,
   "id": "804a88d0",
   "metadata": {},
   "outputs": [
    {
     "data": {
      "text/plain": [
       "(307507, 608)"
      ]
     },
     "execution_count": 18,
     "metadata": {},
     "output_type": "execute_result"
    }
   ],
   "source": [
    "data=pd.read_csv(\"df_current_clients.csv\")\n",
    "data.shape"
   ]
  },
  {
   "cell_type": "code",
   "execution_count": 20,
   "id": "93fd3204",
   "metadata": {},
   "outputs": [
    {
     "data": {
      "text/plain": [
       "0         100002.0\n",
       "1         100003.0\n",
       "2         100004.0\n",
       "3         100006.0\n",
       "4         100007.0\n",
       "            ...   \n",
       "307502    456251.0\n",
       "307503    456252.0\n",
       "307504    456253.0\n",
       "307505    456254.0\n",
       "307506    456255.0\n",
       "Name: SK_ID_CURR, Length: 307507, dtype: float64"
      ]
     },
     "execution_count": 20,
     "metadata": {},
     "output_type": "execute_result"
    }
   ],
   "source": [
    "data[\"SK_ID_CURR\"]"
   ]
  },
  {
   "cell_type": "code",
   "execution_count": 21,
   "id": "c9ec9311",
   "metadata": {},
   "outputs": [
    {
     "data": {
      "text/plain": [
       "SK_ID_CURR                                                  0.0\n",
       "PREV_NAME_CASH_LOAN_PURPOSE_Furniture_MEAN                  0.0\n",
       "PREV_NAME_CASH_LOAN_PURPOSE_Gasificationwatersupply_MEAN    0.0\n",
       "PREV_NAME_CASH_LOAN_PURPOSE_Hobby_MEAN                      0.0\n",
       "PREV_NAME_CASH_LOAN_PURPOSE_Journey_MEAN                    0.0\n",
       "                                                           ... \n",
       "ORGANIZATION_TYPE_Realtor                                   0.0\n",
       "ORGANIZATION_TYPE_Religion                                  0.0\n",
       "ORGANIZATION_TYPE_Restaurant                                0.0\n",
       "ORGANIZATION_TYPE_Military                                  0.0\n",
       "INSTAL_COUNT                                                0.0\n",
       "Length: 608, dtype: float64"
      ]
     },
     "execution_count": 21,
     "metadata": {},
     "output_type": "execute_result"
    }
   ],
   "source": [
    "data.isnull().mean().sort_values()"
   ]
  },
  {
   "cell_type": "markdown",
   "id": "d52d915d",
   "metadata": {},
   "source": [
    "# II/ Utilisation direct des données"
   ]
  },
  {
   "cell_type": "code",
   "execution_count": 23,
   "id": "05578743",
   "metadata": {},
   "outputs": [
    {
     "data": {
      "text/plain": [
       "['SK_ID_CURR', 'TARGET']"
      ]
     },
     "execution_count": 23,
     "metadata": {},
     "output_type": "execute_result"
    }
   ],
   "source": [
    "not_feats_columns  = ['TARGET','SK_ID_CURR','SK_ID_BUREAU','SK_ID_PREV','index']\n",
    "[i for i in data.columns if i in not_feats_columns]  "
   ]
  },
  {
   "cell_type": "code",
   "execution_count": 24,
   "id": "948cdb89",
   "metadata": {},
   "outputs": [],
   "source": [
    "feats= [col for col in data.columns if col not in ['SK_ID_CURR', 'TARGET']]"
   ]
  },
  {
   "cell_type": "code",
   "execution_count": 25,
   "id": "b2b898fd",
   "metadata": {},
   "outputs": [],
   "source": [
    "X = data[feats]\n",
    "Y = data.loc[:,\"TARGET\"]"
   ]
  },
  {
   "cell_type": "code",
   "execution_count": 26,
   "id": "b88daab5",
   "metadata": {},
   "outputs": [],
   "source": [
    "X_train, X_test, y_train, y_test = train_test_split(X, Y, test_size=0.20, stratify=Y, random_state=42)"
   ]
  },
  {
   "cell_type": "code",
   "execution_count": 12,
   "id": "9609bfc8",
   "metadata": {},
   "outputs": [
    {
     "name": "stdout",
     "output_type": "stream",
     "text": [
      "X_train: (246005, 606) et y_train: (246005,)\n",
      "---------------------\n",
      "X_test: (61502, 606) et y_test: (61502,)\n"
     ]
    }
   ],
   "source": [
    "print(\"X_train: {} et y_train: {}\".format(X_train.shape, y_train.shape))\n",
    "print(\"---------------------\")\n",
    "print(\"X_test: {} et y_test: {}\".format(X_test.shape, y_test.shape))"
   ]
  },
  {
   "cell_type": "code",
   "execution_count": 22,
   "id": "802b6a17",
   "metadata": {},
   "outputs": [],
   "source": [
    "stratified_kfold = StratifiedKFold(n_splits=3, shuffle=True, random_state=42)\n",
    "scoring = [\"roc_auc\", \"recall\", \"f1\"]\n",
    "\n",
    "\n",
    "classifiers = {\n",
    "    \"Random Forest\" : RandomForestClassifier(),\n",
    "    \"LightGBM\" : LGBMClassifier(),\n",
    "    \"Gradient Boosting\" : GradientBoostingClassifier(),\n",
    "    \"LogisticRegression\" : LogisticRegression(random_state=4),\n",
    "    \"xgboost\" : xgb.XGBClassifier()\n",
    "}"
   ]
  },
  {
   "cell_type": "code",
   "execution_count": 17,
   "id": "57f5a3d3",
   "metadata": {},
   "outputs": [
    {
     "name": "stderr",
     "output_type": "stream",
     "text": [
      "/home/bdiallo/miniconda3/lib/python3.8/site-packages/sklearn/linear_model/_logistic.py:444: ConvergenceWarning: lbfgs failed to converge (status=1):\n",
      "STOP: TOTAL NO. of ITERATIONS REACHED LIMIT.\n",
      "\n",
      "Increase the number of iterations (max_iter) or scale the data as shown in:\n",
      "    https://scikit-learn.org/stable/modules/preprocessing.html\n",
      "Please also refer to the documentation for alternative solver options:\n",
      "    https://scikit-learn.org/stable/modules/linear_model.html#logistic-regression\n",
      "  n_iter_i = _check_optimize_result(\n",
      "/home/bdiallo/miniconda3/lib/python3.8/site-packages/sklearn/linear_model/_logistic.py:444: ConvergenceWarning: lbfgs failed to converge (status=1):\n",
      "STOP: TOTAL NO. of ITERATIONS REACHED LIMIT.\n",
      "\n",
      "Increase the number of iterations (max_iter) or scale the data as shown in:\n",
      "    https://scikit-learn.org/stable/modules/preprocessing.html\n",
      "Please also refer to the documentation for alternative solver options:\n",
      "    https://scikit-learn.org/stable/modules/linear_model.html#logistic-regression\n",
      "  n_iter_i = _check_optimize_result(\n"
     ]
    }
   ],
   "source": [
    "# List of metrics results for each models \n",
    "LIST_MODEL, LIST_RECALL, LIST_ROC_AUC, LIST_F1, LIST_DURATION  = ([] for i in range(5))\n",
    "\n",
    "for key, clf in classifiers.items():\n",
    "    \n",
    "    start_time_model = timeit.default_timer()\n",
    "    \n",
    "    scores = cross_validate(clf, X_train, y_train, \n",
    "                            cv=stratified_kfold, scoring=scoring)\n",
    "    \n",
    "    end_time_model =  round(timeit.default_timer() - start_time_model, 3)\n",
    "    \n",
    "    # Adding results into LIST\n",
    "    LIST_MODEL.append(key)\n",
    "    LIST_RECALL.append(round(scores.get(\"test_recall\").mean(), 3))\n",
    "    LIST_ROC_AUC.append(round(scores.get(\"test_roc_auc\").mean(), 3))\n",
    "    LIST_F1.append(round(scores.get(\"test_f1\").mean(), 3))\n",
    "    LIST_DURATION.append(end_time_model)"
   ]
  },
  {
   "cell_type": "code",
   "execution_count": 21,
   "id": "fed0f60a",
   "metadata": {},
   "outputs": [
    {
     "data": {
      "text/plain": [
       "{'ROC_AUC': [0.71, 0.777, 0.769, 0.572, 0.767],\n",
       " 'F1': [0.002, 0.068, 0.04, 0.001, 0.105],\n",
       " 'recall': [0.001, 0.036, 0.021, 0.0, 0.06]}"
      ]
     },
     "execution_count": 21,
     "metadata": {},
     "output_type": "execute_result"
    }
   ],
   "source": [
    "list_result={\"ROC_AUC\":LIST_ROC_AUC, \"F1\": LIST_F1, \"recall\": LIST_RECALL}\n",
    "list_result"
   ]
  },
  {
   "cell_type": "code",
   "execution_count": 40,
   "id": "193360fc",
   "metadata": {},
   "outputs": [
    {
     "data": {
      "text/html": [
       "<div>\n",
       "<style scoped>\n",
       "    .dataframe tbody tr th:only-of-type {\n",
       "        vertical-align: middle;\n",
       "    }\n",
       "\n",
       "    .dataframe tbody tr th {\n",
       "        vertical-align: top;\n",
       "    }\n",
       "\n",
       "    .dataframe thead th {\n",
       "        text-align: right;\n",
       "    }\n",
       "</style>\n",
       "<table border=\"1\" class=\"dataframe\">\n",
       "  <thead>\n",
       "    <tr style=\"text-align: right;\">\n",
       "      <th></th>\n",
       "      <th>Random Forest</th>\n",
       "      <th>LightGBM</th>\n",
       "      <th>Gradient Boosting</th>\n",
       "      <th>LogisticRegression</th>\n",
       "      <th>xgboost</th>\n",
       "    </tr>\n",
       "  </thead>\n",
       "  <tbody>\n",
       "    <tr>\n",
       "      <th>ROC_AUC</th>\n",
       "      <td>0.710</td>\n",
       "      <td>0.777</td>\n",
       "      <td>0.769</td>\n",
       "      <td>0.572</td>\n",
       "      <td>0.767</td>\n",
       "    </tr>\n",
       "    <tr>\n",
       "      <th>F1</th>\n",
       "      <td>0.002</td>\n",
       "      <td>0.068</td>\n",
       "      <td>0.040</td>\n",
       "      <td>0.001</td>\n",
       "      <td>0.105</td>\n",
       "    </tr>\n",
       "    <tr>\n",
       "      <th>recall</th>\n",
       "      <td>0.001</td>\n",
       "      <td>0.036</td>\n",
       "      <td>0.021</td>\n",
       "      <td>0.000</td>\n",
       "      <td>0.060</td>\n",
       "    </tr>\n",
       "  </tbody>\n",
       "</table>\n",
       "</div>"
      ],
      "text/plain": [
       "         Random Forest  LightGBM  Gradient Boosting  LogisticRegression  \\\n",
       "ROC_AUC          0.710     0.777              0.769               0.572   \n",
       "F1               0.002     0.068              0.040               0.001   \n",
       "recall           0.001     0.036              0.021               0.000   \n",
       "\n",
       "         xgboost  \n",
       "ROC_AUC    0.767  \n",
       "F1         0.105  \n",
       "recall     0.060  "
      ]
     },
     "execution_count": 40,
     "metadata": {},
     "output_type": "execute_result"
    }
   ],
   "source": [
    "df_models_result= pd.DataFrame([LIST_ROC_AUC,LIST_F1,\n",
    "                               LIST_RECALL], index=list_result.keys(), columns = LIST_MODEL)\n",
    "df_models_result\n"
   ]
  },
  {
   "cell_type": "code",
   "execution_count": 30,
   "id": "16088b32",
   "metadata": {},
   "outputs": [],
   "source": [
    "df_models_result=pd.read_csv(\"comp_model.csv\", sep=\"\\t\", index_col=None)"
   ]
  },
  {
   "cell_type": "code",
   "execution_count": 44,
   "id": "694199c9",
   "metadata": {},
   "outputs": [],
   "source": [
    "#df_models_result.index=[\"ROC_AUC\",\"F1\", \"recall\"]\n",
    "#df_models_result"
   ]
  },
  {
   "cell_type": "code",
   "execution_count": 46,
   "id": "1ddf9a20",
   "metadata": {},
   "outputs": [
    {
     "data": {
      "image/png": "[encoded data removed]",
      "text/plain": [
       "<Figure size 576x504 with 1 Axes>"
      ]
     },
     "metadata": {
      "needs_background": "light"
     },
     "output_type": "display_data"
    }
   ],
   "source": [
    "fig = plt.subplots(figsize=(8, 7))\n",
    "SIZE=20\n",
    "plot=sns.barplot(\n",
    "    x=y_train.value_counts().index,\n",
    "    y=y_train.value_counts(normalize=True),\n",
    ")\n",
    "\n",
    "for p in plot.patches:\n",
    "    plot.annotate(format(p.get_height()*100, \".1f\"), (p.get_x() + p.get_width() / 2., p.get_height()), \n",
    "                    ha=\"center\", va=\"center\", xytext=(0, 8), textcoords=\"offset points\")\n",
    "plt.title(\"Répartition \", size=20)\n",
    "plt.xlabel(\"Target\", size=17)\n",
    "plt.ylabel(\"%\", size=17)\n",
    "\n",
    "plt.rc('axes', labelsize=SIZE) \n",
    "plt.rc('xtick', labelsize=SIZE)\n",
    "plt.rc('ytick', labelsize=SIZE) \n",
    "plt.rc('legend', fontsize=SIZE)\n",
    "plt.tight_layout()\n",
    "plt.savefig(\"fig/repartition_target.png\")"
   ]
  },
  {
   "cell_type": "code",
   "execution_count": 41,
   "id": "83f3a891",
   "metadata": {},
   "outputs": [
    {
     "data": {
      "image/png": "[encoded data removed]",
      "text/plain": [
       "<Figure size 864x504 with 1 Axes>"
      ]
     },
     "metadata": {
      "needs_background": "light"
     },
     "output_type": "display_data"
    }
   ],
   "source": [
    "SIZE=18\n",
    "plot= df_models_result.plot.bar(rot=0, figsize=[12,7])\n",
    "plt.title(\"Comparaison des modèles\", size=20)\n",
    "for p in plot.patches:\n",
    "    plot.annotate(format(p.get_height(), \".3f\"), (p.get_x() + p.get_width() / 2., p.get_height()), \n",
    "                    ha=\"center\", va=\"center\", xytext=(0, 8), textcoords=\"offset points\")\n",
    "plt.legend(bbox_to_anchor=(1, 1), borderaxespad=0, title=\"Metrics\", prop={'size':15})\n",
    "plt.tight_layout()\n",
    "plt.xlabel(\"Model\", size=17)\n",
    "plt.ylabel(\"Metric\", size=17)\n",
    "\n",
    "plt.rc('axes', labelsize=SIZE) \n",
    "plt.rc('xtick', labelsize=SIZE)\n",
    "plt.rc('ytick', labelsize=SIZE) \n",
    "plt.rc('legend', fontsize=SIZE)\n",
    "plt.tight_layout()\n",
    "plt.savefig(\"fig/comparaison_model.png\")"
   ]
  },
  {
   "cell_type": "markdown",
   "id": "68f7aba3",
   "metadata": {},
   "source": [
    "Dans ce résultat le modèle LightGBM est celui qui présente le meilleur résultat de ROC_AUC. Dans le kernel précédemment étudié  \"<citation>\" le modèle LightGBM a été optimisé et les resultats du ROC_AUC ont augmenté. Il a obtenue une valeur de de **0.79** en moyenne. avec les paramètres suivante :<br/>\n",
    "    <div class=\"alert alert-block alert-success\">\n",
    "    nthread=4,\n",
    "    n_estimators=10000,\n",
    "    learning_rate=0.02,\n",
    "    num_leaves=34,\n",
    "    colsample_bytree=0.9497036,\n",
    "    subsample=0.8715623,\n",
    "    max_depth=8,\n",
    "    reg_alpha=0.041545473,\n",
    "    reg_lambda=0.0735294,\n",
    "    min_split_gain=0.0222415,\n",
    "    min_child_weight=39.3259775,\n",
    "    silent=-1,\n",
    "    verbose=-1\n",
    "    </div>\n",
    "    \n",
    " En analysant les différents scoring on note que le modèle **xgboost** est celui qui a une meilleure réprésentation du recall et du F1. <br/>Cependant, on note une surreprésentation de la classe majoritaire donc pour résoudre ce déséquilibre, je choisi dans la suite de réanchantilloner en utilisant \"**SMOTE**\""
   ]
  },
  {
   "cell_type": "markdown",
   "id": "cb52cd1a",
   "metadata": {},
   "source": [
    "# III/ Réechantillonage avec SMOTE"
   ]
  },
  {
   "cell_type": "markdown",
   "id": "cf74b534",
   "metadata": {},
   "source": [
    "SMOTE est une méthode de sur-échantillonnage. </br>\n",
    "Elle fonctionne en créant des échantillons synthétiques à partir de la classe minoritaire au lieu de créer de simples copies. "
   ]
  },
  {
   "cell_type": "code",
   "execution_count": 17,
   "id": "6c5580f6",
   "metadata": {},
   "outputs": [],
   "source": [
    "oversample = SMOTE(random_state=42)\n",
    "X_train_bal, y_train_bal = oversample.fit_resample(X_train, y_train)"
   ]
  },
  {
   "cell_type": "code",
   "execution_count": 18,
   "id": "4a0adc73",
   "metadata": {},
   "outputs": [
    {
     "name": "stdout",
     "output_type": "stream",
     "text": [
      "Train size before balancing : (246005, 606)\n",
      "Train size after balancing : (452290, 606)\n"
     ]
    }
   ],
   "source": [
    "print(\"Train size before balancing : {}\".format(X_train.shape))\n",
    "print(\"Train size after balancing : {}\".format(X_train_bal.shape))"
   ]
  },
  {
   "cell_type": "code",
   "execution_count": 19,
   "id": "90437805",
   "metadata": {},
   "outputs": [
    {
     "data": {
      "image/png": "[encoded data removed]",
      "text/plain": [
       "<Figure size 576x504 with 1 Axes>"
      ]
     },
     "metadata": {
      "needs_background": "light"
     },
     "output_type": "display_data"
    }
   ],
   "source": [
    "fig = plt.subplots(figsize=(8, 7))\n",
    "SIZE=20\n",
    "plot= sns.barplot(\n",
    "    x=y_train_bal.value_counts().index,\n",
    "    y=y_train_bal.value_counts(normalize=True),\n",
    ")\n",
    "for p in plot.patches:\n",
    "    plot.annotate(format(p.get_height()*100, \".1f\"), (p.get_x() + p.get_width() / 2., p.get_height()), \n",
    "                    ha=\"center\", va=\"center\", xytext=(0, 8), textcoords=\"offset points\")\n",
    "plt.title(\"Répartition  après rééchantillonnage\", size=20)\n",
    "plt.xlabel(\"Target\", size=17)\n",
    "plt.ylabel(\"%\", size=17)\n",
    "\n",
    "plt.rc('axes', labelsize=SIZE) \n",
    "plt.rc('xtick', labelsize=SIZE)\n",
    "plt.rc('ytick', labelsize=SIZE) \n",
    "plt.rc('legend', fontsize=SIZE)\n",
    "plt.tight_layout()\n",
    "#plt.savefig(\"fig/repartition_target_SMOTE.png\")"
   ]
  },
  {
   "cell_type": "code",
   "execution_count": null,
   "id": "e9ea8bf9",
   "metadata": {},
   "outputs": [],
   "source": [
    "# List of metrics results for each models \n",
    "LIST_MODEL_2, LIST_RECALL_2, LIST_ROC_AUC_2, LIST_F1_2, LIST_DURATION_2  = ([] for i in range(5))\n",
    "\n",
    "for key, clf in classifiers.items():\n",
    "    \n",
    "    start_time_model = timeit.default_timer()\n",
    "    \n",
    "    scores = cross_validate(clf, X_train_bal, y_train_bal, \n",
    "                            cv=stratified_kfold, scoring=scoring)\n",
    "    \n",
    "    end_time_model =  round(timeit.default_timer() - start_time_model, 3)\n",
    "    \n",
    "    # Adding results into LIST\n",
    "    LIST_MODEL_2.append(key)\n",
    "    LIST_RECALL_2.append(round(scores.get(\"test_recall\").mean(), 3))\n",
    "    LIST_ROC_AUC_2.append(round(scores.get(\"test_roc_auc\").mean(), 3))\n",
    "    LIST_F1_2.append(round(scores.get(\"test_f1\").mean(), 3))\n",
    "    LIST_DURATION_2.append(end_time_model)"
   ]
  },
  {
   "cell_type": "code",
   "execution_count": 61,
   "id": "ffb8e217",
   "metadata": {},
   "outputs": [
    {
     "data": {
      "text/html": [
       "<div>\n",
       "<style scoped>\n",
       "    .dataframe tbody tr th:only-of-type {\n",
       "        vertical-align: middle;\n",
       "    }\n",
       "\n",
       "    .dataframe tbody tr th {\n",
       "        vertical-align: top;\n",
       "    }\n",
       "\n",
       "    .dataframe thead th {\n",
       "        text-align: right;\n",
       "    }\n",
       "</style>\n",
       "<table border=\"1\" class=\"dataframe\">\n",
       "  <thead>\n",
       "    <tr style=\"text-align: right;\">\n",
       "      <th></th>\n",
       "      <th>Random Forest</th>\n",
       "      <th>LightGBM</th>\n",
       "      <th>LogisticRegression</th>\n",
       "      <th>xgboost</th>\n",
       "    </tr>\n",
       "  </thead>\n",
       "  <tbody>\n",
       "    <tr>\n",
       "      <th>ROC_AUC</th>\n",
       "      <td>0.972</td>\n",
       "      <td>0.967</td>\n",
       "      <td>0.605</td>\n",
       "      <td>0.966</td>\n",
       "    </tr>\n",
       "    <tr>\n",
       "      <th>F1</th>\n",
       "      <td>0.918</td>\n",
       "      <td>0.920</td>\n",
       "      <td>0.400</td>\n",
       "      <td>0.921</td>\n",
       "    </tr>\n",
       "    <tr>\n",
       "      <th>recall</th>\n",
       "      <td>0.849</td>\n",
       "      <td>0.865</td>\n",
       "      <td>0.359</td>\n",
       "      <td>0.862</td>\n",
       "    </tr>\n",
       "  </tbody>\n",
       "</table>\n",
       "</div>"
      ],
      "text/plain": [
       "         Random Forest  LightGBM  LogisticRegression  xgboost\n",
       "ROC_AUC          0.972     0.967               0.605    0.966\n",
       "F1               0.918     0.920               0.400    0.921\n",
       "recall           0.849     0.865               0.359    0.862"
      ]
     },
     "execution_count": 61,
     "metadata": {},
     "output_type": "execute_result"
    }
   ],
   "source": [
    "list_result_2={\"ROC_AUC\":LIST_ROC_AUC_2, \"F1\": LIST_F1_2, \"recall\": LIST_RECALL_2}\n",
    "df_models_result_2= pd.DataFrame([LIST_ROC_AUC_2,LIST_F1_2,\n",
    "                               LIST_RECALL_2], index=list_result_2.keys(), columns = LIST_MODEL_2)\n",
    "df_models_result_2"
   ]
  },
  {
   "cell_type": "code",
   "execution_count": 43,
   "id": "5102cc6e",
   "metadata": {},
   "outputs": [
    {
     "data": {
      "image/png": "[encoded data removed]",
      "text/plain": [
       "<Figure size 1080x576 with 1 Axes>"
      ]
     },
     "metadata": {
      "needs_background": "light"
     },
     "output_type": "display_data"
    }
   ],
   "source": [
    "SIZE=18\n",
    "plot= df_models_result_2.plot.bar(rot=0, figsize=[15,8])\n",
    "plt.title(\"Comparaison des modèles après rééchantillonnage\", size=20)\n",
    "for p in plot.patches:\n",
    "    plot.annotate(format(p.get_height(), \".3f\"), (p.get_x() + p.get_width() / 2., p.get_height()), \n",
    "                    ha=\"center\", va=\"center\", xytext=(0, 8), textcoords=\"offset points\")\n",
    "plt.legend(bbox_to_anchor=(1, 1), borderaxespad=0, title=\"Metrics\", prop={'size':15})\n",
    "plt.tight_layout()\n",
    "plt.xlabel(\"Model\", size=17)\n",
    "plt.ylabel(\"Metric\", size=17)\n",
    "\n",
    "plt.rc('axes', labelsize=SIZE) \n",
    "plt.rc('xtick', labelsize=SIZE)\n",
    "plt.rc('ytick', labelsize=SIZE) \n",
    "plt.rc('legend', fontsize=SIZE)\n",
    "plt.tight_layout()\n",
    "plt.savefig(\"fig/comparaison_model_smote.png\")"
   ]
  },
  {
   "cell_type": "markdown",
   "id": "f00fd8d6",
   "metadata": {},
   "source": [
    " <div class=\"alert alert-block alert-success\">\n",
    "    La méthode de réechantillonnage avant l'entraînement créer un overfiting. Aussi pour ces données déséquilibrés ont peut utiliser d'autres méthodes  comme celui de: <h4>modèles d’ensembles qui sont entraînés à chaque étape de l’algorithme sur un échantillon rééquilibré automatiquement entre les différentes classes et donc de se passer de méthodes de rééchantillonnage avant l’entraînement</h4>\n",
    " </div>"
   ]
  },
  {
   "cell_type": "markdown",
   "id": "7196c72a",
   "metadata": {},
   "source": [
    "# IV/ Modèles avec échantillonneurs d'équilibrage intérieurs"
   ]
  },
  {
   "cell_type": "code",
   "execution_count": 53,
   "id": "9ccae705",
   "metadata": {},
   "outputs": [],
   "source": [
    "#scale_pos_weight est le rapport du nombre de classes négatives à la classe positive on prend à 11\n",
    "classifiers_imb = {\n",
    "    \"RandomForest_imb\" : BalancedRandomForestClassifier(),\n",
    "    \"LightGBM_imb\" : LGBMClassifier(scale_pos_weight=11),\n",
    "    \"Boosting_imb\" : RUSBoostClassifier(),\n",
    "    \"Bagging_imb\" : BalancedBaggingClassifier(),\n",
    "    \"xgboost_imb\" : xgb.XGBClassifier(scale_pos_weight=11)\n",
    "}"
   ]
  },
  {
   "cell_type": "code",
   "execution_count": 54,
   "id": "acad96cc",
   "metadata": {},
   "outputs": [],
   "source": [
    "# List of metrics results for each models \n",
    "LIST_MODEL_3, LIST_RECALL_3, LIST_ROC_AUC_3, LIST_F1_3, LIST_DURATION_3  = ([] for i in range(5))\n",
    "\n",
    "for key, clf in classifiers_imb.items():\n",
    "    \n",
    "    start_time_model = timeit.default_timer()\n",
    "    \n",
    "    scores_imb = cross_validate(clf, X_train, y_train,\n",
    "                            cv=stratified_kfold, scoring=scoring)\n",
    "    \n",
    "    end_time_model_imb =  round(timeit.default_timer() - start_time_model, 3)\n",
    "    \n",
    "    # Adding results into LIST\n",
    "    LIST_MODEL_3.append(key)\n",
    "    LIST_RECALL_3.append(round(scores_imb.get(\"test_recall\").mean(), 3))\n",
    "    LIST_ROC_AUC_3.append(round(scores_imb.get(\"test_roc_auc\").mean(), 3))\n",
    "    LIST_F1_3.append(round(scores_imb.get(\"test_f1\").mean(), 3))\n",
    "    LIST_DURATION_3.append(end_time_model_imb)"
   ]
  },
  {
   "cell_type": "code",
   "execution_count": 55,
   "id": "c307d47f",
   "metadata": {},
   "outputs": [
    {
     "data": {
      "text/html": [
       "<div>\n",
       "<style scoped>\n",
       "    .dataframe tbody tr th:only-of-type {\n",
       "        vertical-align: middle;\n",
       "    }\n",
       "\n",
       "    .dataframe tbody tr th {\n",
       "        vertical-align: top;\n",
       "    }\n",
       "\n",
       "    .dataframe thead th {\n",
       "        text-align: right;\n",
       "    }\n",
       "</style>\n",
       "<table border=\"1\" class=\"dataframe\">\n",
       "  <thead>\n",
       "    <tr style=\"text-align: right;\">\n",
       "      <th></th>\n",
       "      <th>RandomForest_imb</th>\n",
       "      <th>LightGBM_imb</th>\n",
       "      <th>Boosting_imb</th>\n",
       "      <th>Bagging_imb</th>\n",
       "      <th>xgboost_imb</th>\n",
       "    </tr>\n",
       "  </thead>\n",
       "  <tbody>\n",
       "    <tr>\n",
       "      <th>ROC_AUC</th>\n",
       "      <td>0.743</td>\n",
       "      <td>0.778</td>\n",
       "      <td>0.755</td>\n",
       "      <td>0.703</td>\n",
       "      <td>0.757</td>\n",
       "    </tr>\n",
       "    <tr>\n",
       "      <th>F1</th>\n",
       "      <td>0.260</td>\n",
       "      <td>0.291</td>\n",
       "      <td>0.267</td>\n",
       "      <td>0.253</td>\n",
       "      <td>0.295</td>\n",
       "    </tr>\n",
       "    <tr>\n",
       "      <th>recall</th>\n",
       "      <td>0.667</td>\n",
       "      <td>0.671</td>\n",
       "      <td>0.679</td>\n",
       "      <td>0.428</td>\n",
       "      <td>0.559</td>\n",
       "    </tr>\n",
       "  </tbody>\n",
       "</table>\n",
       "</div>"
      ],
      "text/plain": [
       "         RandomForest_imb  LightGBM_imb  Boosting_imb  Bagging_imb  \\\n",
       "ROC_AUC             0.743         0.778         0.755        0.703   \n",
       "F1                  0.260         0.291         0.267        0.253   \n",
       "recall              0.667         0.671         0.679        0.428   \n",
       "\n",
       "         xgboost_imb  \n",
       "ROC_AUC        0.757  \n",
       "F1             0.295  \n",
       "recall         0.559  "
      ]
     },
     "execution_count": 55,
     "metadata": {},
     "output_type": "execute_result"
    }
   ],
   "source": [
    "list_result_3={\"ROC_AUC\":LIST_ROC_AUC_3, \"F1\": LIST_F1_3, \"recall\": LIST_RECALL_3}\n",
    "df_models_result_3= pd.DataFrame([LIST_ROC_AUC_3,LIST_F1_3,\n",
    "                               LIST_RECALL_3], index=list_result_3.keys(), columns = LIST_MODEL_3)\n",
    "df_models_result_3"
   ]
  },
  {
   "cell_type": "code",
   "execution_count": 56,
   "id": "35199c35",
   "metadata": {},
   "outputs": [
    {
     "data": {
      "image/png": "[encoded data removed]",
      "text/plain": [
       "<Figure size 1080x576 with 1 Axes>"
      ]
     },
     "metadata": {
      "needs_background": "light"
     },
     "output_type": "display_data"
    }
   ],
   "source": [
    "SIZE=18\n",
    "plot= df_models_result_3.plot.bar(rot=0, figsize=[15,8])\n",
    "plt.title(\"Comparaison des modèles après rééchantillonnage\", size=20)\n",
    "for p in plot.patches:\n",
    "    plot.annotate(format(p.get_height(), \".3f\"), (p.get_x() + p.get_width() / 2., p.get_height()), \n",
    "                    ha=\"center\", va=\"center\", xytext=(0, 8), textcoords=\"offset points\")\n",
    "plt.legend(bbox_to_anchor=(1, 1), borderaxespad=0, title=\"Metrics\", prop={'size':15})\n",
    "plt.tight_layout()\n",
    "plt.xlabel(\"Model\", size=17)\n",
    "plt.ylabel(\"Metric\", size=17)\n",
    "\n",
    "plt.rc('axes', labelsize=SIZE) \n",
    "plt.rc('xtick', labelsize=SIZE)\n",
    "plt.rc('ytick', labelsize=SIZE) \n",
    "plt.rc('legend', fontsize=SIZE)\n",
    "plt.tight_layout()\n",
    "plt.savefig(\"comparaison_model_imb_11.png\")"
   ]
  },
  {
   "cell_type": "markdown",
   "id": "81e3354f",
   "metadata": {},
   "source": [
    "# V/ Recherche des meilleurs hyperparamètres avec  LightGBM et Boosting"
   ]
  },
  {
   "cell_type": "markdown",
   "id": "4a4609df",
   "metadata": {},
   "source": [
    "## a) LightGBM"
   ]
  },
  {
   "cell_type": "code",
   "execution_count": 57,
   "id": "c5b434cc",
   "metadata": {},
   "outputs": [],
   "source": [
    "parameters_1={'max_depth': [7, 8, 9],\n",
    "            'num_leaves': [32, 34],\n",
    "            'learning_rate': [0.01,0.02,0.03],\n",
    "            'colsample_bytree':[0.8,0.9, 1]}\n",
    "\n",
    "\n",
    "LightGBMgrid = GridSearchCV(LGBMClassifier(random_state=4,scale_pos_weight=11),\n",
    "                        param_grid = parameters_2,verbose=-1,cv=stratified_kfold,\n",
    "                        scoring='roc_auc')"
   ]
  },
  {
   "cell_type": "code",
   "execution_count": 59,
   "id": "ea3932df",
   "metadata": {},
   "outputs": [
    {
     "data": {
      "text/html": [
       "<style>#sk-container-id-1 {color: black;background-color: white;}#sk-container-id-1 pre{padding: 0;}#sk-container-id-1 div.sk-toggleable {background-color: white;}#sk-container-id-1 label.sk-toggleable__label {cursor: pointer;display: block;width: 100%;margin-bottom: 0;padding: 0.3em;box-sizing: border-box;text-align: center;}#sk-container-id-1 label.sk-toggleable__label-arrow:before {content: \"▸\";float: left;margin-right: 0.25em;color: #696969;}#sk-container-id-1 label.sk-toggleable__label-arrow:hover:before {color: black;}#sk-container-id-1 div.sk-estimator:hover label.sk-toggleable__label-arrow:before {color: black;}#sk-container-id-1 div.sk-toggleable__content {max-height: 0;max-width: 0;overflow: hidden;text-align: left;background-color: #f0f8ff;}#sk-container-id-1 div.sk-toggleable__content pre {margin: 0.2em;color: black;border-radius: 0.25em;background-color: #f0f8ff;}#sk-container-id-1 input.sk-toggleable__control:checked~div.sk-toggleable__content {max-height: 200px;max-width: 100%;overflow: auto;}#sk-container-id-1 input.sk-toggleable__control:checked~label.sk-toggleable__label-arrow:before {content: \"▾\";}#sk-container-id-1 div.sk-estimator input.sk-toggleable__control:checked~label.sk-toggleable__label {background-color: #d4ebff;}#sk-container-id-1 div.sk-label input.sk-toggleable__control:checked~label.sk-toggleable__label {background-color: #d4ebff;}#sk-container-id-1 input.sk-hidden--visually {border: 0;clip: rect(1px 1px 1px 1px);clip: rect(1px, 1px, 1px, 1px);height: 1px;margin: -1px;overflow: hidden;padding: 0;position: absolute;width: 1px;}#sk-container-id-1 div.sk-estimator {font-family: monospace;background-color: #f0f8ff;border: 1px dotted black;border-radius: 0.25em;box-sizing: border-box;margin-bottom: 0.5em;}#sk-container-id-1 div.sk-estimator:hover {background-color: #d4ebff;}#sk-container-id-1 div.sk-parallel-item::after {content: \"\";width: 100%;border-bottom: 1px solid gray;flex-grow: 1;}#sk-container-id-1 div.sk-label:hover label.sk-toggleable__label {background-color: #d4ebff;}#sk-container-id-1 div.sk-serial::before {content: \"\";position: absolute;border-left: 1px solid gray;box-sizing: border-box;top: 0;bottom: 0;left: 50%;z-index: 0;}#sk-container-id-1 div.sk-serial {display: flex;flex-direction: column;align-items: center;background-color: white;padding-right: 0.2em;padding-left: 0.2em;position: relative;}#sk-container-id-1 div.sk-item {position: relative;z-index: 1;}#sk-container-id-1 div.sk-parallel {display: flex;align-items: stretch;justify-content: center;background-color: white;position: relative;}#sk-container-id-1 div.sk-item::before, #sk-container-id-1 div.sk-parallel-item::before {content: \"\";position: absolute;border-left: 1px solid gray;box-sizing: border-box;top: 0;bottom: 0;left: 50%;z-index: -1;}#sk-container-id-1 div.sk-parallel-item {display: flex;flex-direction: column;z-index: 1;position: relative;background-color: white;}#sk-container-id-1 div.sk-parallel-item:first-child::after {align-self: flex-end;width: 50%;}#sk-container-id-1 div.sk-parallel-item:last-child::after {align-self: flex-start;width: 50%;}#sk-container-id-1 div.sk-parallel-item:only-child::after {width: 0;}#sk-container-id-1 div.sk-dashed-wrapped {border: 1px dashed gray;margin: 0 0.4em 0.5em 0.4em;box-sizing: border-box;padding-bottom: 0.4em;background-color: white;}#sk-container-id-1 div.sk-label label {font-family: monospace;font-weight: bold;display: inline-block;line-height: 1.2em;}#sk-container-id-1 div.sk-label-container {text-align: center;}#sk-container-id-1 div.sk-container {/* jupyter's `normalize.less` sets `[hidden] { display: none; }` but bootstrap.min.css set `[hidden] { display: none !important; }` so we also need the `!important` here to be able to override the default hidden behavior on the sphinx rendered scikit-learn.org. See: https://github.com/scikit-learn/scikit-learn/issues/21755 */display: inline-block !important;position: relative;}#sk-container-id-1 div.sk-text-repr-fallback {display: none;}</style><div id=\"sk-container-id-1\" class=\"sk-top-container\"><div class=\"sk-text-repr-fallback\"><pre>GridSearchCV(cv=StratifiedKFold(n_splits=3, random_state=42, shuffle=True),\n",
       "             estimator=LGBMClassifier(random_state=4, scale_pos_weight=11),\n",
       "             param_grid={&#x27;colsample_bytree&#x27;: [0.8, 0.9, 1],\n",
       "                         &#x27;learning_rate&#x27;: [0.01, 0.02, 0.03],\n",
       "                         &#x27;max_depth&#x27;: [7, 8, 9], &#x27;num_leaves&#x27;: [32, 34]},\n",
       "             scoring=&#x27;roc_auc&#x27;, verbose=-1)</pre><b>In a Jupyter environment, please rerun this cell to show the HTML representation or trust the notebook. <br />On GitHub, the HTML representation is unable to render, please try loading this page with nbviewer.org.</b></div><div class=\"sk-container\" hidden><div class=\"sk-item sk-dashed-wrapped\"><div class=\"sk-label-container\"><div class=\"sk-label sk-toggleable\"><input class=\"sk-toggleable__control sk-hidden--visually\" id=\"sk-estimator-id-1\" type=\"checkbox\" ><label for=\"sk-estimator-id-1\" class=\"sk-toggleable__label sk-toggleable__label-arrow\">GridSearchCV</label><div class=\"sk-toggleable__content\"><pre>GridSearchCV(cv=StratifiedKFold(n_splits=3, random_state=42, shuffle=True),\n",
       "             estimator=LGBMClassifier(random_state=4, scale_pos_weight=11),\n",
       "             param_grid={&#x27;colsample_bytree&#x27;: [0.8, 0.9, 1],\n",
       "                         &#x27;learning_rate&#x27;: [0.01, 0.02, 0.03],\n",
       "                         &#x27;max_depth&#x27;: [7, 8, 9], &#x27;num_leaves&#x27;: [32, 34]},\n",
       "             scoring=&#x27;roc_auc&#x27;, verbose=-1)</pre></div></div></div><div class=\"sk-parallel\"><div class=\"sk-parallel-item\"><div class=\"sk-item\"><div class=\"sk-label-container\"><div class=\"sk-label sk-toggleable\"><input class=\"sk-toggleable__control sk-hidden--visually\" id=\"sk-estimator-id-2\" type=\"checkbox\" ><label for=\"sk-estimator-id-2\" class=\"sk-toggleable__label sk-toggleable__label-arrow\">estimator: LGBMClassifier</label><div class=\"sk-toggleable__content\"><pre>LGBMClassifier(random_state=4, scale_pos_weight=11)</pre></div></div></div><div class=\"sk-serial\"><div class=\"sk-item\"><div class=\"sk-estimator sk-toggleable\"><input class=\"sk-toggleable__control sk-hidden--visually\" id=\"sk-estimator-id-3\" type=\"checkbox\" ><label for=\"sk-estimator-id-3\" class=\"sk-toggleable__label sk-toggleable__label-arrow\">LGBMClassifier</label><div class=\"sk-toggleable__content\"><pre>LGBMClassifier(random_state=4, scale_pos_weight=11)</pre></div></div></div></div></div></div></div></div></div></div>"
      ],
      "text/plain": [
       "GridSearchCV(cv=StratifiedKFold(n_splits=3, random_state=42, shuffle=True),\n",
       "             estimator=LGBMClassifier(random_state=4, scale_pos_weight=11),\n",
       "             param_grid={'colsample_bytree': [0.8, 0.9, 1],\n",
       "                         'learning_rate': [0.01, 0.02, 0.03],\n",
       "                         'max_depth': [7, 8, 9], 'num_leaves': [32, 34]},\n",
       "             scoring='roc_auc', verbose=-1)"
      ]
     },
     "execution_count": 59,
     "metadata": {},
     "output_type": "execute_result"
    }
   ],
   "source": [
    "LightGBMgrid.fit(X_train, y_train)"
   ]
  },
  {
   "cell_type": "code",
   "execution_count": 60,
   "id": "29208678",
   "metadata": {},
   "outputs": [],
   "source": [
    "filename = 'LightGBM_imb.pkl'\n",
    "with open(filename, 'wb') as file:\n",
    "    pickle.dump(LightGBMgrid,file)"
   ]
  },
  {
   "cell_type": "code",
   "execution_count": 61,
   "id": "b5b95267",
   "metadata": {},
   "outputs": [
    {
     "data": {
      "text/plain": [
       "(0.7673576065045916,\n",
       " {'colsample_bytree': 0.9,\n",
       "  'learning_rate': 0.03,\n",
       "  'max_depth': 9,\n",
       "  'num_leaves': 34})"
      ]
     },
     "execution_count": 61,
     "metadata": {},
     "output_type": "execute_result"
    }
   ],
   "source": [
    "LightGBMgrid.best_score_,LightGBMgrid.best_params_"
   ]
  },
  {
   "cell_type": "code",
   "execution_count": 63,
   "id": "8306ef5e",
   "metadata": {},
   "outputs": [
    {
     "data": {
      "text/plain": [
       "0.5719374734769672"
      ]
     },
     "execution_count": 63,
     "metadata": {},
     "output_type": "execute_result"
    }
   ],
   "source": [
    "roc_auc_score(LightGBMgrid.predict(X_test), y_test)"
   ]
  },
  {
   "cell_type": "code",
   "execution_count": 67,
   "id": "d18ad2dc",
   "metadata": {},
   "outputs": [
    {
     "data": {
      "text/plain": [
       "['LightGBMgrid_imb.joblib']"
      ]
     },
     "execution_count": 67,
     "metadata": {},
     "output_type": "execute_result"
    }
   ],
   "source": [
    "joblib.dump(LightGBMgrid, 'LightGBMgrid_imb.joblib')"
   ]
  },
  {
   "cell_type": "markdown",
   "id": "5f47af89",
   "metadata": {},
   "source": [
    "## b) Boosting"
   ]
  },
  {
   "cell_type": "code",
   "execution_count": 70,
   "id": "7e841ac5",
   "metadata": {},
   "outputs": [
    {
     "data": {
      "text/html": [
       "<style>#sk-container-id-2 {color: black;background-color: white;}#sk-container-id-2 pre{padding: 0;}#sk-container-id-2 div.sk-toggleable {background-color: white;}#sk-container-id-2 label.sk-toggleable__label {cursor: pointer;display: block;width: 100%;margin-bottom: 0;padding: 0.3em;box-sizing: border-box;text-align: center;}#sk-container-id-2 label.sk-toggleable__label-arrow:before {content: \"▸\";float: left;margin-right: 0.25em;color: #696969;}#sk-container-id-2 label.sk-toggleable__label-arrow:hover:before {color: black;}#sk-container-id-2 div.sk-estimator:hover label.sk-toggleable__label-arrow:before {color: black;}#sk-container-id-2 div.sk-toggleable__content {max-height: 0;max-width: 0;overflow: hidden;text-align: left;background-color: #f0f8ff;}#sk-container-id-2 div.sk-toggleable__content pre {margin: 0.2em;color: black;border-radius: 0.25em;background-color: #f0f8ff;}#sk-container-id-2 input.sk-toggleable__control:checked~div.sk-toggleable__content {max-height: 200px;max-width: 100%;overflow: auto;}#sk-container-id-2 input.sk-toggleable__control:checked~label.sk-toggleable__label-arrow:before {content: \"▾\";}#sk-container-id-2 div.sk-estimator input.sk-toggleable__control:checked~label.sk-toggleable__label {background-color: #d4ebff;}#sk-container-id-2 div.sk-label input.sk-toggleable__control:checked~label.sk-toggleable__label {background-color: #d4ebff;}#sk-container-id-2 input.sk-hidden--visually {border: 0;clip: rect(1px 1px 1px 1px);clip: rect(1px, 1px, 1px, 1px);height: 1px;margin: -1px;overflow: hidden;padding: 0;position: absolute;width: 1px;}#sk-container-id-2 div.sk-estimator {font-family: monospace;background-color: #f0f8ff;border: 1px dotted black;border-radius: 0.25em;box-sizing: border-box;margin-bottom: 0.5em;}#sk-container-id-2 div.sk-estimator:hover {background-color: #d4ebff;}#sk-container-id-2 div.sk-parallel-item::after {content: \"\";width: 100%;border-bottom: 1px solid gray;flex-grow: 1;}#sk-container-id-2 div.sk-label:hover label.sk-toggleable__label {background-color: #d4ebff;}#sk-container-id-2 div.sk-serial::before {content: \"\";position: absolute;border-left: 1px solid gray;box-sizing: border-box;top: 0;bottom: 0;left: 50%;z-index: 0;}#sk-container-id-2 div.sk-serial {display: flex;flex-direction: column;align-items: center;background-color: white;padding-right: 0.2em;padding-left: 0.2em;position: relative;}#sk-container-id-2 div.sk-item {position: relative;z-index: 1;}#sk-container-id-2 div.sk-parallel {display: flex;align-items: stretch;justify-content: center;background-color: white;position: relative;}#sk-container-id-2 div.sk-item::before, #sk-container-id-2 div.sk-parallel-item::before {content: \"\";position: absolute;border-left: 1px solid gray;box-sizing: border-box;top: 0;bottom: 0;left: 50%;z-index: -1;}#sk-container-id-2 div.sk-parallel-item {display: flex;flex-direction: column;z-index: 1;position: relative;background-color: white;}#sk-container-id-2 div.sk-parallel-item:first-child::after {align-self: flex-end;width: 50%;}#sk-container-id-2 div.sk-parallel-item:last-child::after {align-self: flex-start;width: 50%;}#sk-container-id-2 div.sk-parallel-item:only-child::after {width: 0;}#sk-container-id-2 div.sk-dashed-wrapped {border: 1px dashed gray;margin: 0 0.4em 0.5em 0.4em;box-sizing: border-box;padding-bottom: 0.4em;background-color: white;}#sk-container-id-2 div.sk-label label {font-family: monospace;font-weight: bold;display: inline-block;line-height: 1.2em;}#sk-container-id-2 div.sk-label-container {text-align: center;}#sk-container-id-2 div.sk-container {/* jupyter's `normalize.less` sets `[hidden] { display: none; }` but bootstrap.min.css set `[hidden] { display: none !important; }` so we also need the `!important` here to be able to override the default hidden behavior on the sphinx rendered scikit-learn.org. See: https://github.com/scikit-learn/scikit-learn/issues/21755 */display: inline-block !important;position: relative;}#sk-container-id-2 div.sk-text-repr-fallback {display: none;}</style><div id=\"sk-container-id-2\" class=\"sk-top-container\"><div class=\"sk-text-repr-fallback\"><pre>GridSearchCV(cv=StratifiedKFold(n_splits=3, random_state=42, shuffle=True),\n",
       "             estimator=RUSBoostClassifier(random_state=4),\n",
       "             param_grid={&#x27;learning_rate&#x27;: [0.01, 0.02, 0.03],\n",
       "                         &#x27;n_estimators&#x27;: [50, 100]},\n",
       "             scoring=&#x27;roc_auc&#x27;, verbose=-1)</pre><b>In a Jupyter environment, please rerun this cell to show the HTML representation or trust the notebook. <br />On GitHub, the HTML representation is unable to render, please try loading this page with nbviewer.org.</b></div><div class=\"sk-container\" hidden><div class=\"sk-item sk-dashed-wrapped\"><div class=\"sk-label-container\"><div class=\"sk-label sk-toggleable\"><input class=\"sk-toggleable__control sk-hidden--visually\" id=\"sk-estimator-id-4\" type=\"checkbox\" ><label for=\"sk-estimator-id-4\" class=\"sk-toggleable__label sk-toggleable__label-arrow\">GridSearchCV</label><div class=\"sk-toggleable__content\"><pre>GridSearchCV(cv=StratifiedKFold(n_splits=3, random_state=42, shuffle=True),\n",
       "             estimator=RUSBoostClassifier(random_state=4),\n",
       "             param_grid={&#x27;learning_rate&#x27;: [0.01, 0.02, 0.03],\n",
       "                         &#x27;n_estimators&#x27;: [50, 100]},\n",
       "             scoring=&#x27;roc_auc&#x27;, verbose=-1)</pre></div></div></div><div class=\"sk-parallel\"><div class=\"sk-parallel-item\"><div class=\"sk-item\"><div class=\"sk-label-container\"><div class=\"sk-label sk-toggleable\"><input class=\"sk-toggleable__control sk-hidden--visually\" id=\"sk-estimator-id-5\" type=\"checkbox\" ><label for=\"sk-estimator-id-5\" class=\"sk-toggleable__label sk-toggleable__label-arrow\">estimator: RUSBoostClassifier</label><div class=\"sk-toggleable__content\"><pre>RUSBoostClassifier(random_state=4)</pre></div></div></div><div class=\"sk-serial\"><div class=\"sk-item\"><div class=\"sk-estimator sk-toggleable\"><input class=\"sk-toggleable__control sk-hidden--visually\" id=\"sk-estimator-id-6\" type=\"checkbox\" ><label for=\"sk-estimator-id-6\" class=\"sk-toggleable__label sk-toggleable__label-arrow\">RUSBoostClassifier</label><div class=\"sk-toggleable__content\"><pre>RUSBoostClassifier(random_state=4)</pre></div></div></div></div></div></div></div></div></div></div>"
      ],
      "text/plain": [
       "GridSearchCV(cv=StratifiedKFold(n_splits=3, random_state=42, shuffle=True),\n",
       "             estimator=RUSBoostClassifier(random_state=4),\n",
       "             param_grid={'learning_rate': [0.01, 0.02, 0.03],\n",
       "                         'n_estimators': [50, 100]},\n",
       "             scoring='roc_auc', verbose=-1)"
      ]
     },
     "execution_count": 70,
     "metadata": {},
     "output_type": "execute_result"
    }
   ],
   "source": [
    "parameters_2 = {'n_estimators' : [50,100], 'learning_rate': [0.01,0.02,0.03]}\n",
    "              \n",
    "Boostingrid = GridSearchCV(RUSBoostClassifier(random_state=4),\n",
    "                        param_grid = parameters_2, verbose=-1, cv=stratified_kfold,\n",
    "                        scoring='roc_auc')\n",
    "\n",
    "Boostingrid.fit(X_train, y_train)"
   ]
  },
  {
   "cell_type": "code",
   "execution_count": 72,
   "id": "45a712ae",
   "metadata": {},
   "outputs": [
    {
     "data": {
      "text/plain": [
       "['Boostingrid_imb.joblib']"
      ]
     },
     "execution_count": 72,
     "metadata": {},
     "output_type": "execute_result"
    }
   ],
   "source": [
    "import pickle\n",
    "\n",
    "filename = 'Boosting_imb.pkl'\n",
    "with open(filename, 'wb') as file:\n",
    "    pickle.dump(Boostingrid,file)\n",
    "\n",
    "joblib.dump(Boostingrid, 'Boostingrid_imb.joblib')"
   ]
  },
  {
   "cell_type": "markdown",
   "id": "447a65c2",
   "metadata": {},
   "source": [
    "## c) Récaputilatif des résultats"
   ]
  },
  {
   "cell_type": "code",
   "execution_count": 23,
   "id": "9b4228e7",
   "metadata": {},
   "outputs": [],
   "source": [
    "##mlflow\n",
    "#from mlflow.models.signature import infer_signature\n",
    "#import mlflow.sklearn\n",
    "#signature_2 = infer_signature(X_train_set, y_train_set)\n",
    "#mlflow.sklearn.save_model(Randomgrid_model, 'mlflow_model_random', signature=signature_2)\n",
    "\n",
    "\n",
    "#mlflow models serve -m mlflow_model_random/ ##pour le deploiement faire dans le terminale\n",
    "## créer  http://127.0.0.1:5000 (35665)\n",
    "#curl http://127.0.0.1:5000/invocations -H 'Content-Type: application/json' -d '{\"data\": [donnnee]}'"
   ]
  },
  {
   "cell_type": "code",
   "execution_count": null,
   "id": "159145b2",
   "metadata": {},
   "outputs": [],
   "source": [
    "models_score_imb = pd.DataFrame({})    \n",
    "models_score_imb = models_score_imb.append(pd.DataFrame(\n",
    "    {'Models' : ['LightGBM_imb','Boosting_imb'],\n",
    "     'Training_set' : [LightGBMgrid.best_score_, Boostingrid.best_score_],\n",
    "     'Validation_set_roc_auc' : [roc_auc_score(LightGBMgrid.predict(X_test), y_test),\n",
    "                                 roc_auc_score(Boostingrid.predict(X_test), y_test)]}),\n",
    "                                   ignore_index=True)\n",
    "models_score_imb"
   ]
  },
  {
   "cell_type": "code",
   "execution_count": 79,
   "id": "ba5a8662",
   "metadata": {},
   "outputs": [],
   "source": [
    "models_score_imb.to_csv('models_score_imbalance.csv')"
   ]
  },
  {
   "cell_type": "code",
   "execution_count": 30,
   "id": "41e34043",
   "metadata": {},
   "outputs": [
    {
     "data": {
      "text/html": [
       "<div>\n",
       "<style scoped>\n",
       "    .dataframe tbody tr th:only-of-type {\n",
       "        vertical-align: middle;\n",
       "    }\n",
       "\n",
       "    .dataframe tbody tr th {\n",
       "        vertical-align: top;\n",
       "    }\n",
       "\n",
       "    .dataframe thead th {\n",
       "        text-align: right;\n",
       "    }\n",
       "</style>\n",
       "<table border=\"1\" class=\"dataframe\">\n",
       "  <thead>\n",
       "    <tr style=\"text-align: right;\">\n",
       "      <th></th>\n",
       "      <th>Unnamed: 0</th>\n",
       "      <th>Models</th>\n",
       "      <th>Training_set</th>\n",
       "      <th>Validation_set_roc_auc</th>\n",
       "    </tr>\n",
       "  </thead>\n",
       "  <tbody>\n",
       "    <tr>\n",
       "      <th>0</th>\n",
       "      <td>0</td>\n",
       "      <td>LightGBM_imb</td>\n",
       "      <td>0.767358</td>\n",
       "      <td>0.571937</td>\n",
       "    </tr>\n",
       "    <tr>\n",
       "      <th>1</th>\n",
       "      <td>1</td>\n",
       "      <td>Boosting_imb</td>\n",
       "      <td>0.717664</td>\n",
       "      <td>0.553067</td>\n",
       "    </tr>\n",
       "  </tbody>\n",
       "</table>\n",
       "</div>"
      ],
      "text/plain": [
       "   Unnamed: 0        Models  Training_set  Validation_set_roc_auc\n",
       "0           0  LightGBM_imb      0.767358                0.571937\n",
       "1           1  Boosting_imb      0.717664                0.553067"
      ]
     },
     "execution_count": 30,
     "metadata": {},
     "output_type": "execute_result"
    }
   ],
   "source": [
    "pd.read_csv(\"models_score_imbalance.csv\")"
   ]
  },
  {
   "cell_type": "markdown",
   "id": "fb3ff9ca",
   "metadata": {},
   "source": [
    "## d) Recharge des modèles"
   ]
  },
  {
   "cell_type": "code",
   "execution_count": 3,
   "id": "2c36df6e",
   "metadata": {},
   "outputs": [],
   "source": [
    "#recharge des modèles \n",
    "filename_RF = 'LightGBM_imb.pkl'\n",
    "filename_xgb= 'Boosting_imb.pkl'\n",
    "lightgrid = pickle.load(open(filename_RF, 'rb'))\n",
    "boogrid = pickle.load(open(filename_xgb, 'rb'))"
   ]
  },
  {
   "cell_type": "code",
   "execution_count": 27,
   "id": "88f723fe",
   "metadata": {},
   "outputs": [],
   "source": [
    "(TN, FP, FN, TP)=confusion_matrix(lightgrid.predict(X_test), y_test, labels=[0, 1]).ravel()\n",
    "#fonction_cout_metier=10*FN+FP"
   ]
  },
  {
   "cell_type": "code",
   "execution_count": 37,
   "id": "8ad6350f",
   "metadata": {},
   "outputs": [
    {
     "data": {
      "text/plain": [
       "(41974, 3260, 1705, 14563)"
      ]
     },
     "execution_count": 37,
     "metadata": {},
     "output_type": "execute_result"
    }
   ],
   "source": [
    "(TN, TP, FP, FN)"
   ]
  },
  {
   "cell_type": "code",
   "execution_count": 38,
   "id": "82df04ed",
   "metadata": {},
   "outputs": [],
   "source": [
    "cm = confusion_matrix(y_test, lightgrid.predict(X_test), labels=lightgrid.classes_)\n",
    "disp = ConfusionMatrixDisplay(confusion_matrix=cm, display_labels=lightgrid.classes_)"
   ]
  },
  {
   "cell_type": "code",
   "execution_count": 39,
   "id": "f68d57e0",
   "metadata": {},
   "outputs": [
    {
     "data": {
      "text/plain": [
       "<sklearn.metrics._plot.confusion_matrix.ConfusionMatrixDisplay at 0x7ff36b073820>"
      ]
     },
     "execution_count": 39,
     "metadata": {},
     "output_type": "execute_result"
    },
    {
     "data": {
      "image/png": "[encoded data removed]",
      "text/plain": [
       "<Figure size 432x288 with 2 Axes>"
      ]
     },
     "metadata": {
      "needs_background": "light"
     },
     "output_type": "display_data"
    }
   ],
   "source": [
    "disp.plot()"
   ]
  },
  {
   "cell_type": "markdown",
   "id": "077d12c6",
   "metadata": {},
   "source": [
    "# VII/ Définition du score et de la fonction coût métier"
   ]
  },
  {
   "cell_type": "markdown",
   "id": "f3dbac2e",
   "metadata": {},
   "source": [
    "La fonction coût métier est une fonction qui prend en compte les exigences métiers. Elle permet aux\n",
    "gestionnaires de savoir si avec le modèle choisi il n’y aura pas de perte d’argent. En effet, si on\n",
    "accorde un prêt à un client non solvable cela va coûter beaucoup plus cher à la société que de ne pas\n",
    "accorder de prêt à un client solvable.\n",
    "Donc pour favoriser le faite qu’il y ai moins de perte d’argent, il est important de fixer un seuil très\n",
    "élevé à partir du quel on peut considérer que ce qui client est fiable. J’ai donc choisi qun seuil (\n",
    "c’est à dire la valeur de probabilité à partir duquel le client est considéré comme un bon client) à\n",
    "0.7. Ce seuil correspond à un score de 14/20 "
   ]
  },
  {
   "cell_type": "markdown",
   "id": "d2c399ee",
   "metadata": {},
   "source": [
    "## a) Fonction pour le calcul du score"
   ]
  },
  {
   "cell_type": "code",
   "execution_count": 7,
   "id": "6143efe8",
   "metadata": {},
   "outputs": [],
   "source": [
    "def predict_target(ID_client,modelname):\n",
    "\n",
    "    model = modelname\n",
    "    filename = \"df_current_clients.csv\"\n",
    "    data = pd.read_csv(filename)    \n",
    "\n",
    "    X = data[data['SK_ID_CURR'] == int(ID_client)]\n",
    "    X.drop(['SK_ID_CURR','TARGET'],axis=1,inplace=True)\n",
    "\n",
    "    prediction = int(model.predict(X)[0])\n",
    "    proba = model.predict_proba(X)[0][prediction]\n",
    "\n",
    "    return prediction, proba\n",
    "\n",
    "def get_client_score(ID_client,prediction,proba):\n",
    "\n",
    "    T = pd.DataFrame(columns=[\"A\",\"B\",\"Note\"])\n",
    "\n",
    "    j = 0\n",
    "    for i in range(1,21):\n",
    "        T.loc[i-1,\"A\"] = j\n",
    "        T.loc[i-1,\"B\"] = j + 0.05\n",
    "        T.loc[i-1,\"Note\"] = i\n",
    "        j = j + 0.05\n",
    "\n",
    "    if prediction == 1:\n",
    "        proba = 1 - proba\n",
    "\n",
    "    prob_data = pd.DataFrame(columns=[\"Proba\",\"Note\",\"arrow_idx\"])\n",
    "\n",
    "    X_val = T[(proba >=T[\"A\"]) & (proba <T[\"B\"])]\n",
    "\n",
    "    prob_data = prob_data.append(pd.DataFrame(\n",
    "            {'Proba' : [proba],'Note' : [X_val[\"Note\"].values[0]],\n",
    "             'arrow_idx' : [X_val[\"Note\"].values[0] * 50]}),\n",
    "            ignore_index=True)\n",
    "\n",
    "    prob_data['SK_ID_CURR'] = int(ID_client)\n",
    "    prob_data['TARGET'] = prediction\n",
    "\n",
    "    return prob_data"
   ]
  },
  {
   "cell_type": "markdown",
   "id": "722a2c46",
   "metadata": {},
   "source": [
    "## b) Exemples de fonctionnement "
   ]
  },
  {
   "cell_type": "code",
   "execution_count": 53,
   "id": "7d646028",
   "metadata": {},
   "outputs": [],
   "source": [
    "prediction, proba = predict_target(100002,lightgrid)"
   ]
  },
  {
   "cell_type": "code",
   "execution_count": 54,
   "id": "b276f804",
   "metadata": {},
   "outputs": [
    {
     "data": {
      "text/plain": [
       "0    5\n",
       "Name: Note, dtype: object"
      ]
     },
     "execution_count": 54,
     "metadata": {},
     "output_type": "execute_result"
    }
   ],
   "source": [
    "proba_data=get_client_score(100002,prediction,proba)\n",
    "proba_data[\"Note\"]"
   ]
  },
  {
   "cell_type": "markdown",
   "id": "b4ad9c80",
   "metadata": {},
   "source": [
    "<h5>En conclusion ce client n'aura pas de crédit</h5>"
   ]
  },
  {
   "cell_type": "code",
   "execution_count": 56,
   "id": "45e635df",
   "metadata": {},
   "outputs": [],
   "source": [
    "prediction, proba = predict_target(100006,lightgrid)\n"
   ]
  },
  {
   "cell_type": "code",
   "execution_count": 59,
   "id": "7a1c926b",
   "metadata": {},
   "outputs": [
    {
     "data": {
      "text/plain": [
       "0    14\n",
       "Name: Note, dtype: object"
      ]
     },
     "execution_count": 59,
     "metadata": {},
     "output_type": "execute_result"
    }
   ],
   "source": [
    "proba_data=get_client_score(100006,prediction,proba)\n",
    "proba_data[\"Note\"]"
   ]
  },
  {
   "cell_type": "markdown",
   "id": "b08678f9",
   "metadata": {},
   "source": [
    "<h5>Ce client lui pourra beneficier d'un credit </h5>"
   ]
  },
  {
   "cell_type": "code",
   "execution_count": null,
   "id": "9eb2f94d",
   "metadata": {},
   "outputs": [],
   "source": []
  }
 ],
 "metadata": {
  "kernelspec": {
   "display_name": "Python 3 (ipykernel)",
   "language": "python",
   "name": "python3"
  },
  "language_info": {
   "codemirror_mode": {
    "name": "ipython",
    "version": 3
   },
   "file_extension": ".py",
   "mimetype": "text/x-python",
   "name": "python",
   "nbconvert_exporter": "python",
   "pygments_lexer": "ipython3",
   "version": "3.8.12"
  }
 },
 "nbformat": 4,
 "nbformat_minor": 5
}
